{
 "cells": [
  {
   "cell_type": "markdown",
   "id": "4f99fed3",
   "metadata": {},
   "source": [
    "The Question is:\n",
    "    "
   ]
  },
  {
   "cell_type": "markdown",
   "id": "2aec54b1",
   "metadata": {},
   "source": [
    "Do the following in the iris dataset.\n",
    "1. Read the dataset to the python environment.\n",
    "2. Do necessary pre-processing steps.\n",
    "3. Find out which classification model gives the best result to predict iris\n",
    "species.(also do random forest algorithm)"
   ]
  },
  {
   "cell_type": "code",
   "execution_count": 1,
   "id": "7ed4635f",
   "metadata": {},
   "outputs": [],
   "source": [
    "import numpy as np\n",
    "import pandas as pd\n",
    "import seaborn as sns\n",
    "import matplotlib.pyplot as plt"
   ]
  },
  {
   "cell_type": "markdown",
   "id": "50336801",
   "metadata": {},
   "source": [
    "# 1.Read the dataset to the python environment."
   ]
  },
  {
   "cell_type": "code",
   "execution_count": 7,
   "id": "2d255c73",
   "metadata": {},
   "outputs": [],
   "source": [
    "data= pd.read_excel('iris.xls')"
   ]
  },
  {
   "cell_type": "code",
   "execution_count": 5,
   "id": "4e70e160",
   "metadata": {},
   "outputs": [
    {
     "data": {
      "text/html": [
       "<div>\n",
       "<style scoped>\n",
       "    .dataframe tbody tr th:only-of-type {\n",
       "        vertical-align: middle;\n",
       "    }\n",
       "\n",
       "    .dataframe tbody tr th {\n",
       "        vertical-align: top;\n",
       "    }\n",
       "\n",
       "    .dataframe thead th {\n",
       "        text-align: right;\n",
       "    }\n",
       "</style>\n",
       "<table border=\"1\" class=\"dataframe\">\n",
       "  <thead>\n",
       "    <tr style=\"text-align: right;\">\n",
       "      <th></th>\n",
       "      <th>SL</th>\n",
       "      <th>SW</th>\n",
       "      <th>PL</th>\n",
       "      <th>PW</th>\n",
       "      <th>Classification</th>\n",
       "    </tr>\n",
       "  </thead>\n",
       "  <tbody>\n",
       "    <tr>\n",
       "      <th>0</th>\n",
       "      <td>5.1</td>\n",
       "      <td>3.5</td>\n",
       "      <td>1.4</td>\n",
       "      <td>0.2</td>\n",
       "      <td>Iris-setosa</td>\n",
       "    </tr>\n",
       "    <tr>\n",
       "      <th>1</th>\n",
       "      <td>4.9</td>\n",
       "      <td>3.0</td>\n",
       "      <td>1.4</td>\n",
       "      <td>0.2</td>\n",
       "      <td>Iris-setosa</td>\n",
       "    </tr>\n",
       "    <tr>\n",
       "      <th>2</th>\n",
       "      <td>4.7</td>\n",
       "      <td>3.2</td>\n",
       "      <td>1.3</td>\n",
       "      <td>0.2</td>\n",
       "      <td>Iris-setosa</td>\n",
       "    </tr>\n",
       "    <tr>\n",
       "      <th>3</th>\n",
       "      <td>4.6</td>\n",
       "      <td>3.1</td>\n",
       "      <td>1.5</td>\n",
       "      <td>0.2</td>\n",
       "      <td>Iris-setosa</td>\n",
       "    </tr>\n",
       "    <tr>\n",
       "      <th>4</th>\n",
       "      <td>5.0</td>\n",
       "      <td>3.6</td>\n",
       "      <td>1.4</td>\n",
       "      <td>0.2</td>\n",
       "      <td>Iris-setosa</td>\n",
       "    </tr>\n",
       "  </tbody>\n",
       "</table>\n",
       "</div>"
      ],
      "text/plain": [
       "    SL   SW   PL   PW Classification\n",
       "0  5.1  3.5  1.4  0.2    Iris-setosa\n",
       "1  4.9  3.0  1.4  0.2    Iris-setosa\n",
       "2  4.7  3.2  1.3  0.2    Iris-setosa\n",
       "3  4.6  3.1  1.5  0.2    Iris-setosa\n",
       "4  5.0  3.6  1.4  0.2    Iris-setosa"
      ]
     },
     "execution_count": 5,
     "metadata": {},
     "output_type": "execute_result"
    }
   ],
   "source": [
    "data.head()"
   ]
  },
  {
   "cell_type": "code",
   "execution_count": null,
   "id": "b9aee404",
   "metadata": {},
   "outputs": [],
   "source": [
    "#basic details of the dataset"
   ]
  },
  {
   "cell_type": "code",
   "execution_count": null,
   "id": "bd7b1a33",
   "metadata": {},
   "outputs": [],
   "source": [
    "data.shape"
   ]
  },
  {
   "cell_type": "code",
   "execution_count": null,
   "id": "20b8cd12",
   "metadata": {},
   "outputs": [],
   "source": [
    "data.info()"
   ]
  },
  {
   "cell_type": "code",
   "execution_count": null,
   "id": "72bffbb3",
   "metadata": {},
   "outputs": [],
   "source": [
    "data.columns"
   ]
  },
  {
   "cell_type": "code",
   "execution_count": null,
   "id": "aebcfab5",
   "metadata": {},
   "outputs": [],
   "source": [
    "data.describe()"
   ]
  },
  {
   "cell_type": "markdown",
   "id": "028dcedc",
   "metadata": {},
   "source": [
    "# 2. Do necessary pre-processing steps."
   ]
  },
  {
   "cell_type": "code",
   "execution_count": null,
   "id": "5004fa6d",
   "metadata": {},
   "outputs": [],
   "source": [
    "#checking null values"
   ]
  },
  {
   "cell_type": "code",
   "execution_count": null,
   "id": "f30b432a",
   "metadata": {},
   "outputs": [],
   "source": [
    "data.isna().sum()"
   ]
  },
  {
   "cell_type": "code",
   "execution_count": null,
   "id": "715ff625",
   "metadata": {},
   "outputs": [],
   "source": [
    "data.dtypes"
   ]
  },
  {
   "cell_type": "markdown",
   "id": "8b6573ec",
   "metadata": {},
   "source": [
    "The dataset, titled, \"iris (1)\", consists of 150 rows and 5 columns namely 'SL', 'SW', 'PL', 'PW', and 'Classification' where SL-Sepal Length, SW-Sepal Width, PL-Petal Length, PW-Petal Width."
   ]
  },
  {
   "cell_type": "markdown",
   "id": "cf053a2b",
   "metadata": {},
   "source": [
    "There are null values present in the dataset in three columns namely 'SL', 'SW' and 'PL'."
   ]
  },
  {
   "cell_type": "code",
   "execution_count": null,
   "id": "35942efd",
   "metadata": {},
   "outputs": [],
   "source": [
    "#Fill in all the missing values"
   ]
  },
  {
   "cell_type": "code",
   "execution_count": null,
   "id": "1140c784",
   "metadata": {},
   "outputs": [],
   "source": [
    "data.skew(axis=0,skipna=True)"
   ]
  },
  {
   "cell_type": "code",
   "execution_count": null,
   "id": "28f0cdcb",
   "metadata": {},
   "outputs": [],
   "source": [
    "data.hist(edgecolor='black', linewidth=1.2)\n",
    "fig=plt.gcf()\n",
    "fig.set_size_inches(12,6)\n",
    "plt.show()"
   ]
  },
  {
   "cell_type": "code",
   "execution_count": null,
   "id": "637cdc3d",
   "metadata": {},
   "outputs": [],
   "source": [
    "data['SL']=data['SL'].fillna(data['SL'].median())\n",
    "data['SW']=data['SW'].fillna(data['SW'].median())\n",
    "data['PL']=data['PL'].fillna(data['PL'].median())"
   ]
  },
  {
   "cell_type": "code",
   "execution_count": null,
   "id": "63d15943",
   "metadata": {},
   "outputs": [],
   "source": [
    "data.isna().sum()"
   ]
  },
  {
   "cell_type": "markdown",
   "id": "5a136ae1",
   "metadata": {},
   "source": [
    "Now, all the missing values present in all the columns in the dataset are filled in."
   ]
  },
  {
   "cell_type": "code",
   "execution_count": null,
   "id": "fd017c78",
   "metadata": {},
   "outputs": [],
   "source": [
    "#Handling Outliers"
   ]
  },
  {
   "cell_type": "code",
   "execution_count": null,
   "id": "8cff4eeb",
   "metadata": {},
   "outputs": [],
   "source": [
    "plt.boxplot(data['SL'])\n",
    "plt.title('boxplot of SL')"
   ]
  },
  {
   "cell_type": "markdown",
   "id": "feb1744c",
   "metadata": {},
   "source": [
    "There is no outliers in the column 'SL'."
   ]
  },
  {
   "cell_type": "code",
   "execution_count": null,
   "id": "4e20f817",
   "metadata": {},
   "outputs": [],
   "source": [
    "plt.boxplot(data['SW'])\n",
    "plt.title('boxplot of SW')"
   ]
  },
  {
   "cell_type": "code",
   "execution_count": null,
   "id": "5755bb56",
   "metadata": {},
   "outputs": [],
   "source": [
    "Q1=np.percentile(data['SW'],25,interpolation='midpoint')\n",
    "Q2=np.percentile(data['SW'],50,interpolation='midpoint')\n",
    "Q3=np.percentile(data['SW'],75,interpolation='midpoint')\n",
    "IQR=Q3-Q1\n",
    "low_lim = Q1-1.5*IQR\n",
    "up_lim = Q3 + 1.5*IQR\n",
    "print(low_lim)\n",
    "print(up_lim)"
   ]
  },
  {
   "cell_type": "code",
   "execution_count": null,
   "id": "9afbeaf8",
   "metadata": {},
   "outputs": [],
   "source": [
    "outlier=[]\n",
    "for x in data['SW']:\n",
    "    if((x>up_lim)or(x<low_lim)):\n",
    "        outlier.append(x)"
   ]
  },
  {
   "cell_type": "code",
   "execution_count": null,
   "id": "39c42c71",
   "metadata": {},
   "outputs": [],
   "source": [
    "outlier"
   ]
  },
  {
   "cell_type": "code",
   "execution_count": null,
   "id": "52d33e45",
   "metadata": {},
   "outputs": [],
   "source": [
    "ind1=data['SW']>up_lim\n",
    "data.loc[ind1].index"
   ]
  },
  {
   "cell_type": "code",
   "execution_count": null,
   "id": "0d9a115c",
   "metadata": {},
   "outputs": [],
   "source": [
    "ind2=data['SW']<low_lim\n",
    "data.loc[ind2].index"
   ]
  },
  {
   "cell_type": "code",
   "execution_count": null,
   "id": "e89e7e14",
   "metadata": {},
   "outputs": [],
   "source": [
    "data.drop([14, 15, 32, 33, 60],inplace= True)"
   ]
  },
  {
   "cell_type": "code",
   "execution_count": null,
   "id": "0b1b49fd",
   "metadata": {},
   "outputs": [],
   "source": [
    "plt.boxplot(data['SW'])\n",
    "plt.title('boxplot of SW')"
   ]
  },
  {
   "cell_type": "markdown",
   "id": "b7d775a9",
   "metadata": {},
   "source": [
    "Outliers in the column 'SW' are removed."
   ]
  },
  {
   "cell_type": "code",
   "execution_count": null,
   "id": "e30b71f5",
   "metadata": {},
   "outputs": [],
   "source": [
    "plt.boxplot(data['PL'])\n",
    "plt.title('boxplot of PL')"
   ]
  },
  {
   "cell_type": "markdown",
   "id": "3f301a2f",
   "metadata": {},
   "source": [
    "There is no outliers in the column 'PL'."
   ]
  },
  {
   "cell_type": "code",
   "execution_count": null,
   "id": "2a96f69a",
   "metadata": {},
   "outputs": [],
   "source": [
    "plt.boxplot(data['PW'])\n",
    "plt.title('boxplot of PW')"
   ]
  },
  {
   "cell_type": "markdown",
   "id": "00e25740",
   "metadata": {},
   "source": [
    "There is no outliers in the column 'PW'."
   ]
  },
  {
   "cell_type": "code",
   "execution_count": null,
   "id": "d14d2d25",
   "metadata": {},
   "outputs": [],
   "source": [
    "data['Classification'].value_counts()"
   ]
  },
  {
   "cell_type": "markdown",
   "id": "aec29458",
   "metadata": {},
   "source": [
    "# 3.Find out which classification model gives the best result to predict iris species.(also do random forest algorithm)¶\n"
   ]
  },
  {
   "cell_type": "code",
   "execution_count": null,
   "id": "caf8269c",
   "metadata": {},
   "outputs": [],
   "source": [
    "#Label Encoding"
   ]
  },
  {
   "cell_type": "code",
   "execution_count": null,
   "id": "0b656e92",
   "metadata": {},
   "outputs": [],
   "source": [
    "from sklearn import preprocessing \n",
    "label_encoder = preprocessing.LabelEncoder()\n",
    "a=['Classification']\n",
    "for i in np.arange(len(a)):\n",
    "    data[a[i]]=label_encoder.fit_transform(data[a[i]])"
   ]
  },
  {
   "cell_type": "code",
   "execution_count": null,
   "id": "882fb68e",
   "metadata": {},
   "outputs": [],
   "source": [
    "data"
   ]
  },
  {
   "cell_type": "code",
   "execution_count": null,
   "id": "29c7e243",
   "metadata": {},
   "outputs": [],
   "source": [
    "#Splitting to train and test sets"
   ]
  },
  {
   "cell_type": "code",
   "execution_count": null,
   "id": "45ce5225",
   "metadata": {},
   "outputs": [],
   "source": [
    "Y=pd.DataFrame(data['Classification'])\n",
    "X=data.drop(['Classification'],axis=1)"
   ]
  },
  {
   "cell_type": "code",
   "execution_count": null,
   "id": "2885bd30",
   "metadata": {},
   "outputs": [],
   "source": [
    "X.describe()"
   ]
  },
  {
   "cell_type": "code",
   "execution_count": null,
   "id": "a98688cd",
   "metadata": {},
   "outputs": [],
   "source": [
    "Y.describe()"
   ]
  },
  {
   "cell_type": "code",
   "execution_count": null,
   "id": "b91fecb8",
   "metadata": {},
   "outputs": [],
   "source": [
    "from sklearn.model_selection import train_test_split\n",
    "X_train,X_test,y_train,y_test=train_test_split(X,y,random_state=42,test_size=0.2)"
   ]
  },
  {
   "cell_type": "code",
   "execution_count": null,
   "id": "0b08d06c",
   "metadata": {},
   "outputs": [],
   "source": [
    "X_train.shape\n",
    "y_train.shape\n",
    "X_test.shape\n",
    "y_test.shape"
   ]
  },
  {
   "cell_type": "code",
   "execution_count": null,
   "id": "0f474bac",
   "metadata": {},
   "outputs": [],
   "source": [
    "#Standard scaling"
   ]
  },
  {
   "cell_type": "code",
   "execution_count": null,
   "id": "c02518ab",
   "metadata": {},
   "outputs": [],
   "source": [
    "from sklearn.preprocessing import StandardScaler\n",
    "scaler=StandardScaler()\n",
    "X_train= scaler.fit_transform(X_train)\n",
    "X_test=scaler.fit_transform(X_test)"
   ]
  },
  {
   "cell_type": "code",
   "execution_count": null,
   "id": "ecad541e",
   "metadata": {},
   "outputs": [],
   "source": [
    "#Minmax scaling"
   ]
  },
  {
   "cell_type": "code",
   "execution_count": null,
   "id": "8ecb17c3",
   "metadata": {},
   "outputs": [],
   "source": [
    "from sklearn.preprocessing import MinMaxScaler\n",
    "min_max=preprocessing.MinMaxScaler(feature_range=(0,1))\n",
    "X_train= min_max.fit_transform(X_train)\n",
    "X_test=min_max.fit_transform(X_test)\n",
    "X_train= pd.DataFrame(X_train)\n",
    "X_test=pd.DataFrame(X_test)"
   ]
  },
  {
   "cell_type": "code",
   "execution_count": null,
   "id": "ce264160",
   "metadata": {},
   "outputs": [],
   "source": [
    "X_train.describe()"
   ]
  },
  {
   "cell_type": "code",
   "execution_count": null,
   "id": "09a93cc3",
   "metadata": {},
   "outputs": [],
   "source": [
    "X_test.describe()"
   ]
  },
  {
   "cell_type": "code",
   "execution_count": null,
   "id": "d99256d4",
   "metadata": {},
   "outputs": [],
   "source": [
    "#Logistic Regression Model"
   ]
  },
  {
   "cell_type": "code",
   "execution_count": null,
   "id": "a7c82bea",
   "metadata": {},
   "outputs": [],
   "source": [
    "from sklearn.linear_model import LogisticRegression\n",
    "logit_model = LogisticRegression()\n",
    "logit_model.fit(X_train, y_train.values.ravel())\n",
    "y_pred = logit_model.predict(X_test)"
   ]
  },
  {
   "cell_type": "code",
   "execution_count": null,
   "id": "4e9e3b00",
   "metadata": {},
   "outputs": [],
   "source": [
    "from sklearn.metrics import accuracy_score,classification_report, confusion_matrix"
   ]
  },
  {
   "cell_type": "code",
   "execution_count": null,
   "id": "09811dc4",
   "metadata": {},
   "outputs": [],
   "source": [
    "print('Accuracy : ', accuracy_score(y_test, y_pred))\n",
    "print('Classification Report : \\n', classification_report(y_test, y_pred))"
   ]
  },
  {
   "cell_type": "markdown",
   "id": "f72c7a71",
   "metadata": {},
   "source": [
    "Accuracy of logistic regression model is 93.1"
   ]
  },
  {
   "cell_type": "code",
   "execution_count": null,
   "id": "45c97792",
   "metadata": {},
   "outputs": [],
   "source": [
    "#KNN"
   ]
  },
  {
   "cell_type": "code",
   "execution_count": null,
   "id": "0b07db3a",
   "metadata": {},
   "outputs": [],
   "source": [
    "from sklearn.metrics import accuracy_score,classification_report"
   ]
  },
  {
   "cell_type": "code",
   "execution_count": null,
   "id": "db828f2b",
   "metadata": {},
   "outputs": [],
   "source": [
    "from sklearn.neighbors import KNeighborsClassifier\n",
    "acc_values=[]\n",
    "neighbors=np.arange(3,15)\n",
    "for k in neighbors:\n",
    "    classifier=KNeighborsClassifier(n_neighbors=k,metric ='minkowski')\n",
    "    classifier.fit(X_train,y_train.values.ravel())\n",
    "    y_pred=classifier.predict(X_test)\n",
    "    acc=accuracy_score(y_test,y_pred)\n",
    "    acc_values.append(acc)"
   ]
  },
  {
   "cell_type": "code",
   "execution_count": null,
   "id": "83938646",
   "metadata": {},
   "outputs": [],
   "source": [
    "acc_values"
   ]
  },
  {
   "cell_type": "code",
   "execution_count": null,
   "id": "b6dc70c0",
   "metadata": {},
   "outputs": [],
   "source": [
    "plt.plot(neighbors,acc_values,'o-')\n",
    "plt.xlabel('k values')\n",
    "plt.ylabel('accuracy')"
   ]
  },
  {
   "cell_type": "code",
   "execution_count": null,
   "id": "592841b5",
   "metadata": {},
   "outputs": [],
   "source": [
    "classifier=KNeighborsClassifier(n_neighbors=3,metric ='minkowski')\n",
    "classifier.fit(X_train,y_train.values.ravel())\n",
    "y_pred=classifier.predict(X_test)"
   ]
  },
  {
   "cell_type": "code",
   "execution_count": null,
   "id": "d0a797b2",
   "metadata": {},
   "outputs": [],
   "source": [
    "print(\"Accuracy is:\",accuracy_score(y_test,y_pred))\n",
    "print('Classification Report : \\n', classification_report(y_test, y_pred))"
   ]
  },
  {
   "cell_type": "markdown",
   "id": "3e64bd32",
   "metadata": {},
   "source": [
    "Accuracy of KNN is 93.1"
   ]
  },
  {
   "cell_type": "code",
   "execution_count": null,
   "id": "16ed14c1",
   "metadata": {},
   "outputs": [],
   "source": [
    "#Decision Tree"
   ]
  },
  {
   "cell_type": "code",
   "execution_count": null,
   "id": "a65512ee",
   "metadata": {},
   "outputs": [],
   "source": [
    "from sklearn.tree import DecisionTreeClassifier\n",
    "dec_tree=DecisionTreeClassifier()\n",
    "dec_tree.fit(X_train,y_train)\n",
    "y_pred=dec_tree.predict(X_test)"
   ]
  },
  {
   "cell_type": "code",
   "execution_count": null,
   "id": "74d37e8b",
   "metadata": {},
   "outputs": [],
   "source": [
    "print(\"Accuracy :\",accuracy_score(y_test,y_pred))\n",
    "print('Classification Report:\\n',classification_report(y_test,y_pred))"
   ]
  },
  {
   "cell_type": "markdown",
   "id": "9d6b1ae8",
   "metadata": {},
   "source": [
    "Accuaracy of decision tree model is 89.65"
   ]
  },
  {
   "cell_type": "code",
   "execution_count": null,
   "id": "1cb7fe73",
   "metadata": {},
   "outputs": [],
   "source": [
    "#SVM"
   ]
  },
  {
   "cell_type": "markdown",
   "id": "51051bba",
   "metadata": {},
   "source": [
    "# Linear Model"
   ]
  },
  {
   "cell_type": "code",
   "execution_count": null,
   "id": "b3d13527",
   "metadata": {},
   "outputs": [],
   "source": [
    "from sklearn.svm import SVC\n",
    "l_svm=SVC(kernel='linear')\n",
    "l_svm.fit(X_train,y_train.values.ravel())\n",
    "y_pred=l_svm.predict(X_test)\n",
    "\n",
    "print(\"Accuracy :\",accuracy_score(y_test,y_pred))\n",
    "print('Classification Report:\\n',classification_report(y_test,y_pred))"
   ]
  },
  {
   "cell_type": "markdown",
   "id": "1dd0ef0f",
   "metadata": {},
   "source": [
    "Accuracy of SVM-linear is 93.1"
   ]
  },
  {
   "cell_type": "markdown",
   "id": "c405b6ab",
   "metadata": {},
   "source": [
    "# Polynomial Model"
   ]
  },
  {
   "cell_type": "code",
   "execution_count": null,
   "id": "7008b1dc",
   "metadata": {},
   "outputs": [],
   "source": [
    "from sklearn.svm import SVC\n",
    "p_svm=SVC(kernel='poly',degree=3)\n",
    "p_svm.fit(X_train,y_train.values.ravel())\n",
    "y_pred=p_svm.predict(X_test)\n",
    "\n",
    "print(\"Accuracy :\",accuracy_score(y_test,y_pred))\n",
    "print('Classification Report:\\n',classification_report(y_test,y_pred))"
   ]
  },
  {
   "cell_type": "markdown",
   "id": "25176a93",
   "metadata": {},
   "source": [
    "Accuracy of SVM-Polynomial model is 86.2"
   ]
  },
  {
   "cell_type": "markdown",
   "id": "d54eeb35",
   "metadata": {},
   "source": [
    "# Radial"
   ]
  },
  {
   "cell_type": "code",
   "execution_count": null,
   "id": "afa289fc",
   "metadata": {},
   "outputs": [],
   "source": [
    "r_svm = SVC(kernel = 'rbf')\n",
    "r_svm.fit(X_train, y_train.values.ravel())\n",
    "y_pred = r_svm.predict(X_test)\n",
    "\n",
    "print(\"Accuracy is:\",accuracy_score(y_test,y_pred))\n",
    "print('Classification Report:\\n',classification_report(y_test,y_pred))"
   ]
  },
  {
   "cell_type": "markdown",
   "id": "b8096963",
   "metadata": {},
   "source": [
    "Accuaracy of SVM Radial model is 93.1"
   ]
  },
  {
   "cell_type": "code",
   "execution_count": null,
   "id": "3eedca00",
   "metadata": {},
   "outputs": [],
   "source": [
    "#Random Forest"
   ]
  },
  {
   "cell_type": "code",
   "execution_count": null,
   "id": "bb0455c8",
   "metadata": {},
   "outputs": [],
   "source": [
    "from sklearn.ensemble import RandomForestClassifier\n",
    "rf=RandomForestClassifier()\n",
    "rf.fit(X_train,y_train.values.ravel())\n",
    "y_pred=rf.predict(X_test)"
   ]
  },
  {
   "cell_type": "code",
   "execution_count": null,
   "id": "bad715e4",
   "metadata": {},
   "outputs": [],
   "source": [
    "print(\"Accuracy is:\",accuracy_score(y_test,y_pred))\n",
    "print(classification_report(y_test,y_pred))\n",
    "from sklearn.ensemble import GradientBoostingClassifier\n",
    "gb=GradientBoostingClassifier()\n",
    "rf.fit(X_train,y_train.values.ravel())\n",
    "y_pred=rf.predict(X_test)"
   ]
  },
  {
   "cell_type": "markdown",
   "id": "85b4b131",
   "metadata": {},
   "source": [
    "Accuracy of random forest model is 89.65."
   ]
  },
  {
   "cell_type": "markdown",
   "id": "d9dc7761",
   "metadata": {},
   "source": [
    "### INSIGHT:-\n",
    "\n"
   ]
  },
  {
   "cell_type": "markdown",
   "id": "d9350670",
   "metadata": {},
   "source": [
    "### Logistic regression, KNN and SVM(linear and Radial model) have high accuracy."
   ]
  }
 ],
 "metadata": {
  "kernelspec": {
   "display_name": "Python 3 (ipykernel)",
   "language": "python",
   "name": "python3"
  },
  "language_info": {
   "codemirror_mode": {
    "name": "ipython",
    "version": 3
   },
   "file_extension": ".py",
   "mimetype": "text/x-python",
   "name": "python",
   "nbconvert_exporter": "python",
   "pygments_lexer": "ipython3",
   "version": "3.9.7"
  }
 },
 "nbformat": 4,
 "nbformat_minor": 5
}
